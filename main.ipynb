{
  "cells": [
    {
      "cell_type": "markdown",
      "source": [
        "# Setup"
      ],
      "metadata": {
        "id": "bKcGcfTGzLNL"
      },
      "id": "bKcGcfTGzLNL"
    },
    {
      "cell_type": "code",
      "execution_count": 1,
      "id": "566247f8",
      "metadata": {
        "colab": {
          "base_uri": "https://localhost:8080/",
          "height": 429
        },
        "id": "566247f8",
        "outputId": "39b875ed-508c-480c-dff7-23027d60cd88"
      },
      "outputs": [
        {
          "output_type": "stream",
          "name": "stdout",
          "text": [
            "\u001b[?25l   \u001b[90m━━━━━━━━━━━━━━━━━━━━━━━━━━━━━━━━━━━━━━━━\u001b[0m \u001b[32m0.0/1.6 MB\u001b[0m \u001b[31m?\u001b[0m eta \u001b[36m-:--:--\u001b[0m\r\u001b[2K   \u001b[91m━━━━━━━━━━━\u001b[0m\u001b[91m╸\u001b[0m\u001b[90m━━━━━━━━━━━━━━━━━━━━━━━━━━━━\u001b[0m \u001b[32m0.5/1.6 MB\u001b[0m \u001b[31m13.8 MB/s\u001b[0m eta \u001b[36m0:00:01\u001b[0m\r\u001b[2K   \u001b[91m━━━━━━━━━━━━━━━━━━━━━━━━━━━━━━━━━━━━━━━\u001b[0m\u001b[91m╸\u001b[0m \u001b[32m1.6/1.6 MB\u001b[0m \u001b[31m28.0 MB/s\u001b[0m eta \u001b[36m0:00:01\u001b[0m\r\u001b[2K   \u001b[90m━━━━━━━━━━━━━━━━━━━━━━━━━━━━━━━━━━━━━━━━\u001b[0m \u001b[32m1.6/1.6 MB\u001b[0m \u001b[31m20.4 MB/s\u001b[0m eta \u001b[36m0:00:00\u001b[0m\n",
            "\u001b[?25h"
          ]
        },
        {
          "output_type": "error",
          "ename": "ModuleNotFoundError",
          "evalue": "No module named 'installation_tools'",
          "traceback": [
            "\u001b[0;31m---------------------------------------------------------------------------\u001b[0m",
            "\u001b[0;31mModuleNotFoundError\u001b[0m                       Traceback (most recent call last)",
            "\u001b[0;32m/tmp/ipython-input-3806808526.py\u001b[0m in \u001b[0;36m<cell line: 0>\u001b[0;34m()\u001b[0m\n\u001b[1;32m     11\u001b[0m \u001b[0;31m# --- Imports (module you saved as sse_env.py) ---\u001b[0m\u001b[0;34m\u001b[0m\u001b[0;34m\u001b[0m\u001b[0m\n\u001b[1;32m     12\u001b[0m \u001b[0;32mimport\u001b[0m \u001b[0mimportlib\u001b[0m\u001b[0;34m,\u001b[0m \u001b[0mos\u001b[0m\u001b[0;34m,\u001b[0m \u001b[0msys\u001b[0m\u001b[0;34m,\u001b[0m \u001b[0mshutil\u001b[0m\u001b[0;34m,\u001b[0m \u001b[0msubprocess\u001b[0m\u001b[0;34m,\u001b[0m \u001b[0murllib\u001b[0m\u001b[0;34m.\u001b[0m\u001b[0mrequest\u001b[0m\u001b[0;34m,\u001b[0m \u001b[0mpathlib\u001b[0m\u001b[0;34m\u001b[0m\u001b[0;34m\u001b[0m\u001b[0m\n\u001b[0;32m---> 13\u001b[0;31m \u001b[0;32mimport\u001b[0m \u001b[0minstallation_tools\u001b[0m \u001b[0;32mas\u001b[0m \u001b[0minstall_tools\u001b[0m\u001b[0;34m\u001b[0m\u001b[0;34m\u001b[0m\u001b[0m\n\u001b[0m\u001b[1;32m     14\u001b[0m \u001b[0mimportlib\u001b[0m\u001b[0;34m.\u001b[0m\u001b[0mreload\u001b[0m\u001b[0;34m(\u001b[0m\u001b[0minstall_tools\u001b[0m\u001b[0;34m)\u001b[0m\u001b[0;34m\u001b[0m\u001b[0;34m\u001b[0m\u001b[0m\n\u001b[1;32m     15\u001b[0m \u001b[0;34m\u001b[0m\u001b[0m\n",
            "\u001b[0;31mModuleNotFoundError\u001b[0m: No module named 'installation_tools'",
            "",
            "\u001b[0;31m---------------------------------------------------------------------------\u001b[0;32m\nNOTE: If your import is failing due to a missing package, you can\nmanually install dependencies using either !pip or !apt.\n\nTo view examples of installing some common dependencies, click the\n\"Open Examples\" button below.\n\u001b[0;31m---------------------------------------------------------------------------\u001b[0m\n"
          ],
          "errorDetails": {
            "actions": [
              {
                "action": "open_url",
                "actionText": "Open Examples",
                "url": "/notebooks/snippets/importing_libraries.ipynb"
              }
            ]
          }
        },
        {
          "output_type": "stream",
          "name": "stdout",
          "text": [
            "time: 8.51 ms (started: 2025-10-01 22:09:15 +00:00)\n"
          ]
        }
      ],
      "source": [
        "!pip --quiet install ipython-autotime\n",
        "%load_ext autotime\n",
        "\n",
        "# set path for libraries\n",
        "import sys\n",
        "sys.path.append('/content/pytorch3d_rendering')\n",
        "\n",
        "# --- Config ---\n",
        "mount_gdrive = False\n",
        "\n",
        "# --- Imports (module you saved as sse_env.py) ---\n",
        "import importlib, os, sys, shutil, subprocess, urllib.request, pathlib\n",
        "import installation_tools as install_tools\n",
        "importlib.reload(install_tools)\n",
        "\n",
        "# --- Short helpers (no notebook magics) ---\n",
        "def run(cmd, check=True):\n",
        "    print(\"$\", \" \".join(cmd))\n",
        "    try:\n",
        "        subprocess.run(cmd, check=check)\n",
        "    except subprocess.CalledProcessError as e:\n",
        "        print(f\"Command failed ({e.returncode}): {' '.join(cmd)}\")\n",
        "        if check:\n",
        "            raise\n",
        "\n",
        "def pip_install(*pkgs, extra=None, check=True):\n",
        "    args = [sys.executable, \"-m\", \"pip\", \"install\"]\n",
        "    if extra:\n",
        "        args += extra\n",
        "    args += list(pkgs)\n",
        "    run(args, check=check)\n",
        "\n",
        "def conda_available():\n",
        "    return shutil.which(\"conda\") is not None\n",
        "\n",
        "def conda_install(*pkgs):\n",
        "    if not conda_available():\n",
        "        print(\"conda not available; skipping conda installs.\")\n",
        "        return\n",
        "    # Use -c conda-forge channel and auto-yes\n",
        "    run([\"conda\", \"install\", \"-y\", \"-c\", \"conda-forge\", *pkgs], check=False)\n",
        "\n",
        "# --- Detect platform ---\n",
        "pm = install_tools.PlatformManager()\n",
        "platform, local_path = pm.platform, pm.local_path\n",
        "print(\"Detected:\", platform, local_path)\n",
        "\n",
        "# --- Optional: Mount GDrive if on Colab ---\n",
        "if mount_gdrive and platform == \"Colab\":\n",
        "    pm.mount_gdrive()\n",
        "\n",
        "# --- Lightning AI specific environment tweaks ---\n",
        "if platform == \"LightningAI\":\n",
        "    # conda piece (if conda exists in the image)\n",
        "    conda_install(\"libstdcxx-ng=13\")\n",
        "    # pip pins / extras\n",
        "    pip_install(\"numpy<2.0\", check=False)\n",
        "    pip_install(\"scikit-image\", \"gradio\", \"moviepy\", \"plotly\", check=False)\n",
        "    # If requirements.txt exists in CWD, install it\n",
        "    if os.path.exists(\"requirements.txt\"):\n",
        "        pip_install(\"-r\", \"requirements.txt\")\n",
        "\n",
        "# --- Install PyTorch3D (handles platform differences & fallbacks) ---\n",
        "installer = install_tools.PyTorch3DInstaller(platform, local_path)\n",
        "installer.install()\n",
        "\n",
        "# --- Extra libraries (quiet-ish) ---\n",
        "# Original line had: trimesh pyrender opencv-python matplotlib pytorch-lightning\n",
        "pip_install(\"trimesh\", \"pyrender\", \"opencv-python\", \"matplotlib\", \"pytorch-lightning\", check=False)\n",
        "\n",
        "# --- Download plot_image_grid.py if missing ---\n",
        "filename = \"plot_image_grid.py\"\n",
        "url = \"https://raw.githubusercontent.com/facebookresearch/pytorch3d/main/docs/tutorials/utils/plot_image_grid.py\"\n",
        "if not os.path.exists(filename):\n",
        "    print(f\"Downloading {filename} ...\")\n",
        "    try:\n",
        "        urllib.request.urlretrieve(url, filename)\n",
        "        print(\"Saved to\", pathlib.Path(filename).resolve())\n",
        "    except Exception as e:\n",
        "        print(\"Download failed:\", e)\n",
        "\n",
        "# --- gdown ---\n",
        "pip_install(\"gdown\", extra=[\"--quiet\"], check=False)\n",
        "print(\"✅ Setup complete.\")\n"
      ]
    }
  ],
  "metadata": {
    "language_info": {
      "name": "python"
    },
    "colab": {
      "provenance": []
    },
    "kernelspec": {
      "name": "python3",
      "display_name": "Python 3"
    }
  },
  "nbformat": 4,
  "nbformat_minor": 5
}